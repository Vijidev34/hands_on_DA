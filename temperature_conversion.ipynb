{
  "nbformat": 4,
  "nbformat_minor": 0,
  "metadata": {
    "colab": {
      "provenance": []
    },
    "kernelspec": {
      "name": "python3",
      "display_name": "Python 3"
    },
    "language_info": {
      "name": "python"
    }
  },
  "cells": [
    {
      "cell_type": "code",
      "execution_count": 10,
      "metadata": {
        "colab": {
          "base_uri": "https://localhost:8080/"
        },
        "id": "9u89EqT3txkC",
        "outputId": "2b1a0712-ae52-451e-d2be-9328352af4d6"
      },
      "outputs": [
        {
          "output_type": "stream",
          "name": "stdout",
          "text": [
            "Celsius    Farenheit \n",
            "34         93.2      \n",
            "30         86.0      \n",
            "28         82.4      \n",
            "35         95.0      \n",
            "33         91.4      \n",
            "29         84.2      \n"
          ]
        }
      ],
      "source": [
        "import numpy as np\n",
        "\n",
        "celsius=np.array([34,30,28,35,33,29])\n",
        "F=(celsius*9/5)+32\n",
        "print(\"{:<10} {:<10}\".format(\"Celsius\",\"Farenheit\"))\n",
        "for i in range(len(celsius)):\n",
        "    print(f\"{celsius[i]:<10} {F[i]:<10}\")"
      ]
    }
  ]
}