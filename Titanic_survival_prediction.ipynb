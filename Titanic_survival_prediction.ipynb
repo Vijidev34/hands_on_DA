{
  "nbformat": 4,
  "nbformat_minor": 0,
  "metadata": {
    "colab": {
      "provenance": [],
      "authorship_tag": "ABX9TyNLgoEoJb6QE0ASQEP3k5oG",
      "include_colab_link": true
    },
    "kernelspec": {
      "name": "python3",
      "display_name": "Python 3"
    },
    "language_info": {
      "name": "python"
    }
  },
  "cells": [
    {
      "cell_type": "markdown",
      "metadata": {
        "id": "view-in-github",
        "colab_type": "text"
      },
      "source": [
        "<a href=\"https://colab.research.google.com/github/Vijidev34/hands_on_DA/blob/main/Titanic_survival_prediction.ipynb\" target=\"_parent\"><img src=\"https://colab.research.google.com/assets/colab-badge.svg\" alt=\"Open In Colab\"/></a>"
      ]
    },
    {
      "cell_type": "code",
      "execution_count": 4,
      "metadata": {
        "colab": {
          "base_uri": "https://localhost:8080/"
        },
        "id": "qDgJLNNdiWwk",
        "outputId": "61be2607-8393-4c21-8be6-f8af5d2675a8"
      },
      "outputs": [
        {
          "output_type": "stream",
          "name": "stdout",
          "text": [
            "Prediction: [1]\n"
          ]
        }
      ],
      "source": [
        "import pandas as pd\n",
        "from sklearn.model_selection import train_test_split\n",
        "from sklearn.linear_model import LogisticRegression\n",
        "data={'Age':[22,38,26,35,28],'Fare':[7025,71.83,7.92,53.1,8.05],'sex':[0,1,1,1,0],'Survived':[0,1,1,1,0]}\n",
        "df=pd.DataFrame(data)\n",
        "X=df[['Age','Fare','sex']]\n",
        "y=df['Survived']\n",
        "X_train,X_test,y_train,y_test=train_test_split(X,y,test_size=0.2,random_state=42)\n",
        "model=LogisticRegression()\n",
        "model.fit(X_train,y_train)\n",
        "print(\"Prediction:\",model.predict(X_test))"
      ]
    }
  ]
}