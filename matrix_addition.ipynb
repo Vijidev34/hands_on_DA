{
  "nbformat": 4,
  "nbformat_minor": 0,
  "metadata": {
    "colab": {
      "provenance": []
    },
    "kernelspec": {
      "name": "python3",
      "display_name": "Python 3"
    },
    "language_info": {
      "name": "python"
    }
  },
  "cells": [
    {
      "cell_type": "code",
      "execution_count": 12,
      "metadata": {
        "colab": {
          "base_uri": "https://localhost:8080/"
        },
        "id": "Aqpugs8NA7sJ",
        "outputId": "758aaca9-49b8-420e-85f0-3477e6183de6"
      },
      "outputs": [
        {
          "output_type": "stream",
          "name": "stdout",
          "text": [
            "The total of both classes: [[135 173 182]\n",
            " [118 147 159]]\n",
            "The average score per kid is: [163.33 141.33]\n"
          ]
        }
      ],
      "source": [
        "import numpy as np\n",
        "class1=np.array([[70,85,90],[60,75,80]])\n",
        "class2=np.array([[65,88,92],[58,72,79]])\n",
        "total=class1 + class2\n",
        "print(\"The total of both classes:\",total)\n",
        "average=np.mean(total,axis=1)\n",
        "print(\"The average score per kid is:\",average.round(2))\n"
      ]
    }
  ]
}