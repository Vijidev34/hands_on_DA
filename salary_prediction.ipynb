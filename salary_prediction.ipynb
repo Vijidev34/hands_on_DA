{
  "nbformat": 4,
  "nbformat_minor": 0,
  "metadata": {
    "colab": {
      "provenance": [],
      "authorship_tag": "ABX9TyOegMwOZlrHwp1dAsNWp+2f",
      "include_colab_link": true
    },
    "kernelspec": {
      "name": "python3",
      "display_name": "Python 3"
    },
    "language_info": {
      "name": "python"
    }
  },
  "cells": [
    {
      "cell_type": "markdown",
      "metadata": {
        "id": "view-in-github",
        "colab_type": "text"
      },
      "source": [
        "<a href=\"https://colab.research.google.com/github/Vijidev34/hands_on_DA/blob/main/salary_prediction.ipynb\" target=\"_parent\"><img src=\"https://colab.research.google.com/assets/colab-badge.svg\" alt=\"Open In Colab\"/></a>"
      ]
    },
    {
      "cell_type": "code",
      "execution_count": 30,
      "metadata": {
        "colab": {
          "base_uri": "https://localhost:8080/"
        },
        "id": "-OBJsRXNGJZg",
        "outputId": "067d1e57-b9f9-4f0c-cbac-92f50df96808"
      },
      "outputs": [
        {
          "output_type": "stream",
          "name": "stdout",
          "text": [
            "Predicted: [154355.22616873  99726.43447057 140698.02824419  72412.03862149\n",
            " 147526.62720646 174841.02305554 181669.62201781  99726.43447057\n",
            "  51926.24173467  92897.8355083  120212.23135738 174841.02305554\n",
            "  45097.6427724   92897.8355083   58754.84069694 140698.02824419\n",
            "  65583.43965921  41683.34329127  79240.63758376  86069.23654603\n",
            "  99726.43447057  92897.8355083  140698.02824419  65583.43965921\n",
            "  99726.43447057  58754.84069694 168012.42409327  99936.96768254\n",
            " 154355.22616873 161183.825131    51926.24173467 127040.83031965\n",
            "  51926.24173467 133869.42928192  79240.63758376  34854.744329\n",
            " 174841.02305554  45097.6427724   45097.6427724   58754.84069694\n",
            "  45097.6427724   86069.23654603 202155.41890462 161183.825131\n",
            "  45097.6427724  140698.02824419 106555.03343284  45097.6427724\n",
            "  45097.6427724   45097.6427724   99726.43447057  86069.23654603\n",
            "  86069.23654603 113383.63239511 168012.42409327  58754.84069694\n",
            " 202155.41890462  79240.63758376  51926.24173467  72412.03862149\n",
            " 113383.63239511 127040.83031965 168012.42409327  65583.43965921\n",
            "  45097.6427724   45097.6427724   51926.24173467 127040.83031965\n",
            "  45097.6427724   31440.44484786  79240.63758376 106555.03343284\n",
            " 140698.02824419 133869.42928192  86069.23654603]\n",
            "Score: 0.8947512075775289\n"
          ]
        }
      ],
      "source": [
        "import pandas as pd\n",
        "from sklearn.linear_model import LinearRegression\n",
        "from sklearn.model_selection import train_test_split\n",
        "data=pd.read_csv('/content/sample_data/Salary Data.csv')\n",
        "data['Years of Experience']=data['Years of Experience'].fillna(data['Years of Experience'].mean())\n",
        "data['Salary']=data['Salary'].fillna(data['Salary'].mean())\n",
        "X=data[['Years of Experience']]\n",
        "y=data['Salary']\n",
        "X_train,X_test,y_train,y_test=train_test_split(X,y,test_size=0.2,random_state=42)\n",
        "model=LinearRegression()\n",
        "model.fit(X_train,y_train)\n",
        "print(\"Predicted:\",model.predict(X_test))\n",
        "print(\"Score:\",model.score(X_test,y_test))"
      ]
    }
  ]
}