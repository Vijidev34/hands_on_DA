{
  "nbformat": 4,
  "nbformat_minor": 0,
  "metadata": {
    "colab": {
      "provenance": []
    },
    "kernelspec": {
      "name": "python3",
      "display_name": "Python 3"
    },
    "language_info": {
      "name": "python"
    }
  },
  "cells": [
    {
      "cell_type": "code",
      "execution_count": null,
      "metadata": {
        "colab": {
          "base_uri": "https://localhost:8080/"
        },
        "id": "rtSkDCpPxQiN",
        "outputId": "d1b74b61-432e-4153-fca9-346dae02c289"
      },
      "outputs": [
        {
          "output_type": "stream",
          "name": "stdout",
          "text": [
            "79.0\n",
            "4\n",
            "The diff between max and min marks is 31\n"
          ]
        }
      ],
      "source": [
        "import numpy as np\n",
        "marks=np.array([60,72,85,90,77,69,88,91])\n",
        "avg=marks.mean()\n",
        "print(avg)\n",
        "count_above_80 = 0\n",
        "for mark in marks:\n",
        "    if mark > 80:\n",
        "        count_above_80 += 1\n",
        "print(count_above_80)\n",
        "max_mark=marks.max()\n",
        "min_mark=marks.min()\n",
        "diff=max_mark-min_mark\n",
        "print(\"The diff between max and min marks is\", diff)"
      ]
    }
  ]
}