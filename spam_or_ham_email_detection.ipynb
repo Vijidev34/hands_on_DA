{
  "nbformat": 4,
  "nbformat_minor": 0,
  "metadata": {
    "colab": {
      "provenance": [],
      "authorship_tag": "ABX9TyOy0iSMvncRWvOH6yzvepye",
      "include_colab_link": true
    },
    "kernelspec": {
      "name": "python3",
      "display_name": "Python 3"
    },
    "language_info": {
      "name": "python"
    }
  },
  "cells": [
    {
      "cell_type": "markdown",
      "metadata": {
        "id": "view-in-github",
        "colab_type": "text"
      },
      "source": [
        "<a href=\"https://colab.research.google.com/github/Vijidev34/hands_on_DA/blob/main/spam_or_ham_email_detection.ipynb\" target=\"_parent\"><img src=\"https://colab.research.google.com/assets/colab-badge.svg\" alt=\"Open In Colab\"/></a>"
      ]
    },
    {
      "cell_type": "code",
      "execution_count": 7,
      "metadata": {
        "colab": {
          "base_uri": "https://localhost:8080/"
        },
        "id": "iEC5JuNpSx6g",
        "outputId": "48203159-c434-417e-8250-dd72fa2bc65f"
      },
      "outputs": [
        {
          "output_type": "stream",
          "name": "stdout",
          "text": [
            "Accuracy: 1.0\n"
          ]
        }
      ],
      "source": [
        "from sklearn.feature_extraction.text import CountVectorizer\n",
        "from sklearn.naive_bayes import MultinomialNB\n",
        "from sklearn.model_selection import train_test_split\n",
        "data=[\n",
        "    ('Free loterry tickets',1),('Hi,how are yoou?',0),('Win $$$ now!',1),('Lunch at 2 PM?',0),('Claim your reward',1)\n",
        "]\n",
        "cv=CountVectorizer()\n",
        "x=cv.fit_transform(texts)\n",
        "x_train,x_test,y_train,y_test=train_test_split(x,labels,test_size=0.2)\n",
        "model=MultinomialNB()\n",
        "model.fit(x_train,y_train)\n",
        "print(\"Accuracy:\",model.score(x_test,y_test))"
      ]
    }
  ]
}