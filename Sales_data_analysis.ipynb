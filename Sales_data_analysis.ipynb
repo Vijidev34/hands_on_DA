{
  "nbformat": 4,
  "nbformat_minor": 0,
  "metadata": {
    "colab": {
      "provenance": []
    },
    "kernelspec": {
      "name": "python3",
      "display_name": "Python 3"
    },
    "language_info": {
      "name": "python"
    }
  },
  "cells": [
    {
      "cell_type": "code",
      "execution_count": 36,
      "metadata": {
        "colab": {
          "base_uri": "https://localhost:8080/"
        },
        "id": "UNeph4tc7bVD",
        "outputId": "c20a3c12-7cac-421a-d3a4-c12ea39242d6"
      },
      "outputs": [
        {
          "output_type": "stream",
          "name": "stdout",
          "text": [
            "The total sales of the week is  87.30000000000001\n",
            "The average sales is 12.471428571428573\n",
            "Day 1 had sales above average and is 12.5\n",
            "Day 4 had sales above average and is 14.6\n",
            "Day 5 had sales above average and is 13.3\n",
            "Day 6 had sales above average and is 15.0\n"
          ]
        }
      ],
      "source": [
        "import numpy as np\n",
        "sales=np.array([12.5,10.2,9.8,14.6,13.3,15.0,11.9])\n",
        "total_sales=np.sum(sales)\n",
        "print(\"The total sales of the week is \",total_sales)\n",
        "average_sales=np.mean(sales)\n",
        "print(\"The average sales is\",average_sales)\n",
        "for i in range(len(sales)):\n",
        "  if sales[i]>average_sales:\n",
        "    print(\"Day\",i+1,\"had sales above average and is\", sales[i])"
      ]
    }
  ]
}