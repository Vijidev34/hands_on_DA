{
  "nbformat": 4,
  "nbformat_minor": 0,
  "metadata": {
    "colab": {
      "provenance": []
    },
    "kernelspec": {
      "name": "python3",
      "display_name": "Python 3"
    },
    "language_info": {
      "name": "python"
    }
  },
  "cells": [
    {
      "cell_type": "code",
      "execution_count": 30,
      "metadata": {
        "colab": {
          "base_uri": "https://localhost:8080/"
        },
        "id": "DsIjnTj33otd",
        "outputId": "254e5444-245d-4143-f2ef-0a55d1296076"
      },
      "outputs": [
        {
          "output_type": "stream",
          "name": "stdout",
          "text": [
            "The original price is: [120 250  89 300 150]\n",
            "The new price after 10% increase is: [136.677665 266.677665 105.677665 316.677665 166.677665]\n",
            "The new average price is: 198.47766499999997\n",
            "The price above average is 266.68,316.68\n"
          ]
        }
      ],
      "source": [
        "import numpy as np\n",
        "prices=np.array([120,250,89,300,150])\n",
        "print(\"The original price is:\",prices)\n",
        "newprices=prices + (i*10/100)\n",
        "print(\"The new price after 10% increase is:\",newprices)\n",
        "new_average=np.average(newprices)\n",
        "print(\"The new average price is:\",new_average)\n",
        "above_avg=[round(i,2) for i in newprices if i>new_average]\n",
        "print(\"The price above average is\",\",\".join(map(str,above_avg)))\n"
      ]
    }
  ]
}